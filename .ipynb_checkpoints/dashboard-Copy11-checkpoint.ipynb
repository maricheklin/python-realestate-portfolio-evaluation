{
 "cells": [
  {
   "cell_type": "markdown",
   "metadata": {},
   "source": [
    "# Toronto Dwellings Analysis Dashboard\n",
    "\n",
    "In this notebook, you will compile the visualizations from the previous analysis into functions to create a Panel dashboard."
   ]
  },
  {
   "cell_type": "code",
   "execution_count": null,
   "metadata": {},
   "outputs": [],
   "source": [
    "# imports\n",
    "from holoviews.streams import Params\n",
    "import holoviews as hv\n",
    "import panel as pn\n",
    "pn.extension('plotly')\n",
    "import plotly.express as px\n",
    "import pandas as pd\n",
    "import hvplot.pandas\n",
    "import matplotlib.pyplot as plt\n",
    "import os\n",
    "from pathlib import Path\n",
    "from dotenv import load_dotenv\n",
    "from panel.interact import interact\n",
    "from panel import widgets\n",
    "import numpy as np\n",
    "import panel.widgets as pnw"
   ]
  },
  {
   "cell_type": "code",
   "execution_count": null,
   "metadata": {},
   "outputs": [],
   "source": [
    "pd.set_option('display.float_format', lambda x: '%.3f' % x)"
   ]
  },
  {
   "cell_type": "code",
   "execution_count": null,
   "metadata": {},
   "outputs": [],
   "source": [
    "# Read the Mapbox API key\n",
    "load_dotenv()\n",
    "map_box_api = os.getenv(\"mapbox\")\n",
    "px.set_mapbox_access_token(map_box_api)"
   ]
  },
  {
   "cell_type": "markdown",
   "metadata": {},
   "source": [
    "# Import Data"
   ]
  },
  {
   "cell_type": "code",
   "execution_count": null,
   "metadata": {},
   "outputs": [],
   "source": [
    "# Import the CSVs to Pandas DataFrames\n",
    "file_path = Path(\"Data/toronto_neighbourhoods_census_data.csv\")\n",
    "to_data = pd.read_csv(file_path, index_col=\"year\")\n",
    "\n",
    "file_path = Path(\"Data/toronto_neighbourhoods_coordinates.csv\")\n",
    "df_neighbourhood_locations = pd.read_csv(file_path)"
   ]
  },
  {
   "cell_type": "markdown",
   "metadata": {},
   "source": [
    "- - -"
   ]
  },
  {
   "cell_type": "markdown",
   "metadata": {},
   "source": [
    "## Panel Visualizations\n",
    "\n",
    "In this section, you will copy the code for each plot type from your analysis notebook and place it into separate functions that Panel can use to create panes for the dashboard. \n",
    "\n",
    "These functions will convert the plot object to a Panel pane.\n",
    "\n",
    "Be sure to include any DataFrame transformation/manipulation code required along with the plotting code.\n",
    "\n",
    "Return a Panel pane object from each function that can be used to build the dashboard.\n",
    "\n",
    "Note: Remove any `.show()` lines from the code. We want to return the plots instead of showing them. The Panel dashboard will then display the plots."
   ]
  },
  {
   "cell_type": "markdown",
   "metadata": {},
   "source": [
    "### Global available data - data calculated in rental_analysis.ipynb"
   ]
  },
  {
   "cell_type": "code",
   "execution_count": null,
   "metadata": {},
   "outputs": [],
   "source": [
    "# Getting the data from the top 10 expensive neighbourhoods\n",
    "file_path1 = Path('Data/top10_expensive_data_fin.csv')\n",
    "top10_expensive_data_fin = pd.read_csv(file_path1)\n",
    "\n",
    "# Calculate the mean number of dwelling types units per year\n",
    "file_path2 = Path('Data/dwelling_types_per_year.csv')\n",
    "dwelling_type_year_df = pd.read_csv(file_path2)\n",
    "\n",
    "# Calculate the average monthly shelter costs for owned and rented dwellings\n",
    "file_path3 = Path(\"Data/monthly_shelter_cost.csv\")\n",
    "monthly_shelter_cost = pd.read_csv(file_path3)\n",
    "\n",
    "# Calculate the top 10 suburbs by year by nighbourhood - for sunburst\n",
    "file_path4 = Path(\"Data/top10_expensive_data_year_neighbourhood_fin.csv\")\n",
    "top10_expensive_yearly_df = pd.read_csv(file_path4)\n",
    "\n",
    "\n",
    "# Calculate location data for map - df_location_neighbourhood_map\n",
    "file_path5 = Path(\"Data/df_location_neighbourhood_map.csv\")\n",
    "df_location_neighbourhood = pd.read_csv(file_path5)\n",
    "\n",
    "# Calculate oveereview of value per year per neighbourhood\n",
    "file_path6 = Path('Data/neighbourhood_yr_data.csv')\n",
    "neighbourhood_yr_data = pd.read_csv(file_path6) #neighbourhood_yr_data\n",
    "\n",
    "# Calculate the mean number of dwelling types units per year -for hvplot\n",
    "file_path7 = Path('Data/dwellingtype_year_data.csv')\n",
    "dwellingtype_year_data = pd.read_csv(file_path7)"
   ]
  },
  {
   "cell_type": "markdown",
   "metadata": {},
   "source": [
    "### Panel Visualization Functions"
   ]
  },
  {
   "cell_type": "code",
   "execution_count": null,
   "metadata": {},
   "outputs": [],
   "source": [
    "# hvplot.help('line') # review of options"
   ]
  },
  {
   "cell_type": "code",
   "execution_count": null,
   "metadata": {},
   "outputs": [],
   "source": [
    "def create_bar_chart(data, xvalue, yvalue, titletext, xlabel, ylabel):\n",
    "    \n",
    "    return data.hvplot.bar(x=xvalue, y=yvalue,  xlabel=xlabel, ylabel=ylabel, title=titletext, rot=45, colorbar=True, yformatter='%.0f', cmap='plasma')\n",
    "    "
   ]
  },
  {
   "cell_type": "code",
   "execution_count": null,
   "metadata": {},
   "outputs": [],
   "source": [
    "def create_line_chart(data, xvalue, yvalue, titletext, xlabel, ylabel):\n",
    "\n",
    "    return data.hvplot.line(x=xvalue, y=yvalue, xlabel=xlabel, ylabel=ylabel,title=titletext, rot=45, colorbar=True, yformatter='%.0f', cmap='plasma')\n",
    "    "
   ]
  },
  {
   "cell_type": "code",
   "execution_count": null,
   "metadata": {},
   "outputs": [],
   "source": [
    "# Define Panel visualization functions\n",
    "def neighbourhood_map(): \n",
    "    \"\"\"Neighbourhood Map - this map shows the neighbourhood map \n",
    "    this map shows a scatter map using mapbox and plotly express. It only takes exact \n",
    "    values from the stored dataframe - not dynamic\"\"\"\n",
    "   \n",
    "\n",
    "    return px.scatter_mapbox(\n",
    "    df_location_neighbourhood,\n",
    "    lat=\"lat\",\n",
    "    lon=\"lon\",\n",
    "    title = 'Realestate Analysis of Toronto 2001 to 2016 ',\n",
    "    size=\"average_house_value\",\n",
    "    color=\"average_house_value\",\n",
    "    zoom=9,\n",
    "    hover_name=df_location_neighbourhood.index, \n",
    "    hover_data=df_location_neighbourhood,\n",
    "    #hover_data=[\"average_house_value\", \"shelter_costs_owned\", \"shelter_costs_rented\"],\n",
    "    color_continuous_scale=px.colors.cyclical.IceFire\n",
    "    )\n",
    "\n",
    "\n",
    "    \n",
    "    \n",
    "    \n",
    "\n",
    "\n",
    "\n",
    "\n",
    "def average_house_value():\n",
    "    \"\"\"Average house values per year.\"\"\"\n",
    "    avg_house_price = to_data['average_house_value'].groupby('year').mean()\n",
    "    title = 'Average House Value in Toronto Per Year'\n",
    "    #colour='aliceblue'\n",
    "    ylabel = 'Avg House Value'\n",
    "    xlabel = 'Year'\n",
    "    # call function to get the chart\n",
    "    \n",
    "    fig = px.line(avg_house_price, title=title)\n",
    "    fig.update_layout(\n",
    "        #font_family=\"Courier New\",\n",
    "        font_color=\"black\",\n",
    "        #title_font_color=\"Blue\",\n",
    "\n",
    "        #font=dict(\n",
    "            #family=\"Courier New, monospace\",\n",
    "        #    size=18,\n",
    "        #    color=\"RebeccaPurple\"\n",
    "        #),\n",
    "        title={\n",
    "            'text': title,\n",
    "            'y':1,\n",
    "            'x':0.5,\n",
    "            'xanchor': 'center',\n",
    "            'yanchor': 'top'})\n",
    "    fig.update_yaxes(\n",
    "            tickangle = 90,\n",
    "            title_text = ylabel,\n",
    "            title_font = {\"size\": 16},\n",
    "            title_standoff = 25)\n",
    "    fig.update_xaxes(\n",
    "            tickangle = 90,\n",
    "            title_text = xlabel,\n",
    "            title_font = {\"size\": 16},\n",
    "            title_standoff = 25)\n",
    "    #fig.update_traces(marker_color=colour)    \n",
    "    \n",
    "\n",
    "    # call line graph function\n",
    "    return fig\n",
    "\n",
    "\n",
    "\n",
    "\n",
    "def monthly_shelter_values(rent_or_own):\n",
    "    # Create two line charts, one to plot the monthly shelter costs for owned dwelling and other for rented dwellings per year\n",
    "    \n",
    "    colourlist=['#2990A0','#A0296A'] # set colour options list\n",
    "    panelcolour='#2990A0'\n",
    "    width=600 # figure width\n",
    "    height=600 # figure height\n",
    "    if rent_or_own == 'rent':\n",
    "        \n",
    "        \n",
    "        # for monthly renting \n",
    "        column  = 'shelter_costs_rented'\n",
    "        data = monthly_shelter_cost # get only rented column\n",
    "        rent_or_own = 'Rented' # text for title\n",
    "        panelcolour = colourlist[0] # select colour\n",
    "        titletext = 'Average Monthly Shelter Cost for ' + rent_or_own.upper() + ' Dwellings in Toronto'\n",
    "        xvalue = 'year'\n",
    "        yvalue = column\n",
    "        xlabel = 'Year'\n",
    "        ylabel = 'Avg Monthly Shelter Costs'\n",
    "        colour = 'r'\n",
    "       \n",
    "        # call line graph function \n",
    "\n",
    "\n",
    "\n",
    "    if rent_or_own == 'own':\n",
    "        # for monthly owning\n",
    "        column  = 'shelter_costs_owned'\n",
    "        data = monthly_shelter_cost # get only owned column\n",
    "        rent_or_own = 'Owned' # text for title\n",
    "        panelcolour = colourlist[1] # select colour\n",
    "        titletext = 'Average Monthly Shelter Cost for ' + rent_or_own.upper() + ' Dwellings in Toronto'\n",
    "    \n",
    "        xvalue = 'year'\n",
    "        yvalue = column\n",
    "        xlabel = 'Year'\n",
    "        ylabel = 'Avg Monthly Shelter Costs'\n",
    "\n",
    "        \n",
    "    # create and return line graph function \n",
    "    return create_line_chart(data, xvalue, yvalue, titletext, xlabel, ylabel)\n",
    "\n",
    " \n",
    "\n",
    "\n",
    "\n",
    "\n",
    "\n",
    "    \n",
    "\n",
    "def average_value_by_neighbourhood():\n",
    "    \"\"\"Average house values by neighbourhood by year.\"\"\"\n",
    "    \n",
    "    neighbourhood_line_hvplot = neighbourhood_yr_data.hvplot(kind='line', x='year', y='average_house_value', groupby='neighbourhood', dynspread=True, datashade=True,  xlabel=\"Year\", ylabel=\"Avg House Price\", rot=90).opts(\n",
    "    yformatter=\"$%.0f\", title=\"Average House Value by Neighbourhood by Year\", framewise=True)\n",
    "    \n",
    "    return neighbourhood_line_hvplot\n",
    "\n",
    "def dwelling_type_per_neighbourhood():\n",
    "    dwell_by_neighbourhood_hvplot = dwellingtype_year_data.hvplot(kind='bar', rot=90, groupby=['neighbourhood'], xlabel=\"Year\", height=500, ylabel=\"Dwelling Type Units\").opts(\n",
    "    yformatter=\"%.0f\", title=\"Number of Toronto Dwelling Types by Neighbourhood by Year\", framewise=True)\n",
    "    \n",
    "    return dwell_by_neighbourhood_hvplot\n",
    "\n",
    "def number_dwelling_types(year):\n",
    "    \"\"\"Number of dwelling types per year. Takes year as an input\"\"\"\n",
    "    \n",
    "    if year == 2001:\n",
    "        panelcolour = '#2990A0'\n",
    "        \n",
    "    elif year == 2006:\n",
    "        panelcolour = '#A0296A'\n",
    "        \n",
    "    elif year == 2011:\n",
    "        panelcolour = '#8F4395'\n",
    "        \n",
    "    elif year == 2016:\n",
    "        panelcolour = '#29A03C'\n",
    "    row = dwelling_type_year_df[dwelling_type_year_df.year==year]    \n",
    "\n",
    "\n",
    "    # set values and get chart    \n",
    "  \n",
    "    titletext = 'Dwelling Types in Toronto in ' +  str(year)  \n",
    "    xvalue = 'year'\n",
    "    xlabel = 'Year'\n",
    "    ylabel = 'Number of Dwellings'\n",
    "    yvalue = ['single_detached_house','apartment_five_storeys_plus','movable_dwelling','semi_detached_house','row_house','duplex','apartment_five_storeys_less','other_house']\n",
    "    data = row\n",
    "    colour = 'year'\n",
    "\n",
    "    # return created bar chart\n",
    "    return create_bar_chart(data, xvalue, yvalue, titletext, xlabel, ylabel)\n",
    "  \n",
    "\n",
    "    \n",
    "\n",
    "def average_house_value_snapshot():\n",
    "    \"\"\"Average house value for all Toronto's neighbourhoods per year.\"\"\"\n",
    "    try:\n",
    "        fig = px.bar(neighbourhood_yr_data, x=\"neighbourhood\", y=\"average_house_value\",  title=\"Average House Values Toronto Neighbourhood per Year\", color=\"average_house_value\", facet_row=\"year\", height=900)\n",
    "        fig.update_layout(\n",
    "            #font_family=\"Courier New\",\n",
    "            font_color=\"black\",\n",
    "            title_font_color=\"Black\",\n",
    "            title={\n",
    "                'text': \"Average House Prices Toronto Per Neighbourhood Per Year\",\n",
    "                'y':1,\n",
    "                'x':0.5,\n",
    "                'xanchor': 'center',\n",
    "                'yanchor': 'top'})\n",
    "        fig.update_yaxes(\n",
    "                tickangle = 90,\n",
    "                title_text = \"Avg House Price\",\n",
    "                #title_font = {\"size\": 16},\n",
    "                title_standoff = 25)\n",
    "        fig.update_xaxes(title_font_family=\"Arial\")\n",
    "    \n",
    "    except:\n",
    "        print('Exception in averag house value - check input values and nulls')\n",
    "    \n",
    "    return fig\n",
    "\n",
    "def top_most_expensive_neighbourhoods():\n",
    "    \"\"\"Top 10 Most Expensive Neighbourhoods in Toronto\"\"\"\n",
    "    \n",
    "    titletext = 'Top 10 Expensive Neighbourhoods in Toronto'\n",
    "    data = top10_expensive_data_fin    \n",
    "    xvalue = 'neighbourhood'\n",
    "    yvalue = 'average_house_value'\n",
    "    xlabel = 'Neighbourhood'\n",
    "    ylabel = 'Avg House Value - $Million'\n",
    "    colour = '#1f77b4' \n",
    "    width = 600\n",
    "    height = 600\n",
    "    # call line graph function\n",
    "    \n",
    "    \n",
    "    top10_expensive_plot=create_line_chart(data, xvalue, yvalue, titletext, xlabel, ylabel)\n",
    "\n",
    "\n",
    "    return top10_expensive_plot\n",
    "\n",
    "def sunburts_cost_analysis():\n",
    "    \"\"\"Costs Analysis of Most Expensive Neighbourhoods in Toronto per Year.\"\"\"\n",
    "    \n",
    "    df = top10_expensive_yearly_df\n",
    "    fig = px.sunburst(df, path=['year', 'neighbourhood'], values='average_house_value', \\\n",
    "                  \n",
    "        color='shelter_costs_owned',\\\n",
    "        color_continuous_scale='Blues')\n",
    "    return fig\n",
    " "
   ]
  },
  {
   "cell_type": "markdown",
   "metadata": {},
   "source": [
    "## Panel Dashboard\n",
    "\n",
    "In this section, you will combine all of the plots into a single dashboard view using Panel. Be creative with your dashboard design!"
   ]
  },
  {
   "cell_type": "code",
   "execution_count": null,
   "metadata": {},
   "outputs": [],
   "source": [
    "\n",
    "# declare lists years for interactive selection\n",
    "list_of_years = [2001,2006, 2011, 2016]\n",
    "# declare lists rent or own for monthly shelter view\n",
    "list_rent_own = ['rent','own']\n",
    "\n",
    "# Create the main dashboard\n",
    "# create columns\n",
    "welcome_column = pn.Column(\n",
    "    \"## Toronto Housing Analysis Overview\", \n",
    "    neighbourhood_map(),\n",
    ")\n",
    "\n",
    "dwelling_types_column = pn.Column(\n",
    "    \"## Toronto House Dwellings per Year\",\n",
    "    interact(number_dwelling_types, year=list_of_years, name='Select a Year'),    \n",
    ")\n",
    "\n",
    "\n",
    "neighbourhood_column = pn.Column(\n",
    "    \"## Toronto Housing per Neighbourhood\",\n",
    "    average_house_value_snapshot(),\n",
    "    average_value_by_neighbourhood(),\n",
    "    dwelling_type_per_neighbourhood(),\n",
    ")\n",
    "\n",
    "average_house_column = pn.Column(\n",
    "    \"## Toronto Average House Value per Year\",\n",
    "    average_house_value(),\n",
    "    \n",
    "\n",
    ")\n",
    "\n",
    "shelter_column = pn.Column(\n",
    "    \"## Monthly Housing Shelter Costs for Renting or Owning\",\n",
    "    interact(monthly_shelter_values, rent_or_own=list_rent_own),\n",
    ")\n",
    "\n",
    "expensive_type_column = pn.Column(\n",
    "    \"## Most Expensive Housing in Toronto Neighbourhood\",\n",
    "    top_most_expensive_neighbourhoods(),\n",
    "    sunburts_cost_analysis()\n",
    ")\n",
    "\n",
    "\n"
   ]
  },
  {
   "cell_type": "code",
   "execution_count": null,
   "metadata": {},
   "outputs": [],
   "source": [
    "# Put together the dashboard components\n",
    "\n",
    "# background colour\n",
    "bkcol = '#cc99ff'\n",
    "\n",
    "\n",
    "\n",
    "# Neighbourhood view 1 for subtab1\n",
    "neighbourhood_col1 = pn.Column(\n",
    "    \"### Average House Value\",\n",
    "    average_house_value_snapshot(),\n",
    "\n",
    ")\n",
    "\n",
    "# Neighbourhood view 2 for subtab2\n",
    "neighbourhood_col2 = pn.Column(\n",
    "    \"### Average Value\",\n",
    "    average_value_by_neighbourhood(),\n",
    "\n",
    ")\n",
    "\n",
    "# Neighbourhood view 3 for subtab3\n",
    "neighbourhood_col3 = pn.Column(\n",
    "    \"### Dwelling Type\",\n",
    "    dwelling_type_per_neighbourhood(),\n",
    "\n",
    ")\n",
    "\n",
    "# sub tabs for Neighbourhood\n",
    "neighbour_sub_tabs = pn.Tabs(\n",
    "('House Price Overview', neighbourhood_col1),\n",
    "('Yearly House Price', neighbourhood_col2),\n",
    "('Dwelling Type', neighbourhood_col3),   \n",
    ")\n",
    "\n",
    "\n",
    "neighbourhood_column = pn.Column(\n",
    "    \"## Toronto Housing per Neighbourhood\",\n",
    "    neighbour_sub_tabs,\n",
    ")\n",
    "\n",
    "\n",
    "# Most Expensive view 1 for subtab1\n",
    "expense_col1 = pn.Column(\n",
    "    \"### Most Expensive Housing by Year and Neighbourhood\",\n",
    "    sunburts_cost_analysis(),\n",
    "\n",
    ")\n",
    "\n",
    "# Most Expensive view 2 for subtab2\n",
    "expense_col2 = pn.Column(\n",
    "    \"### Top 10 Most Expensive Suburbs\",\n",
    "    top_most_expensive_neighbourhoods(),\n",
    "\n",
    ")\n",
    "\n",
    "# sub tabs for Neighbourhood\n",
    "expense_sub_tabs = pn.Tabs(\n",
    "('Overview', expense_col1),\n",
    "('Top 10 Suburbs', expense_col2),  \n",
    ")\n",
    "\n",
    "expensive_type_column = pn.Column(\n",
    "    \"## Most Expensive Housing in Toronto\",\n",
    "    expense_sub_tabs,  \n",
    ")\n",
    "\n",
    "# Main Tab Layout for the dashboard\n",
    "dash_tabs = pn.Tabs( \n",
    "    (\"Welcome\", welcome_column), \n",
    "    (\"Dwelling Types\", dwelling_types_column),  \n",
    "    (\"Neighbourhood\", neighbourhood_column),\n",
    "    (\"Average House Value\", average_house_column),\n",
    "    (\"Most Expensive Neighbourhoods\", expensive_type_column),\n",
    "    ('Monthly Shelter Costs', shelter_column), background=bkcol\n",
    ")\n",
    "\n",
    "\n",
    "# introduction image\n",
    "intro_png = pn.panel('https://www.pngkey.com/png/full/17-175313_free-png-toronto-city-skyline-png-images-transparent.png', width=300, background=bkcol)\n",
    "\n",
    "\n",
    "pic_col = pn.Column(intro_png)\n",
    "\n",
    "# welcome text\n",
    "desc_col = pn.Column('##### Welcome. This Toronto Housing Analysis dashboard reviews housing data between 2001 and 2016. <br><br>Main dashboard features:<br><br><li>Mapping housing data by neighbourhoods</li><li>Review of number of dwelling types by year</li><li>Neighbourhood housing stats</li><li>Cost of housing to rent or own</li><li>Average housing costs</li><li>Most expensive neighbourhoods</li>     ')\n",
    "side_col = pn.Column(pic_col,desc_col)\n",
    "main_row =pn.Row(side_col, dash_tabs, background= bkcol)\n",
    "\n",
    "main_dash = pn.Column('#Toronto Housing Analysis 2001-2016',main_row)\n"
   ]
  },
  {
   "cell_type": "markdown",
   "metadata": {},
   "source": [
    "## Serve the Panel Dashboard"
   ]
  },
  {
   "cell_type": "code",
   "execution_count": null,
   "metadata": {},
   "outputs": [],
   "source": [
    "main_dash.servable()"
   ]
  },
  {
   "cell_type": "markdown",
   "metadata": {},
   "source": [
    "# Debugging & Experimenting\n",
    "\n",
    "Note: Some of the Plotly express plots may not render in the notebook through the panel functions.\n",
    "\n",
    "However, you can test each plot by uncommenting the following code"
   ]
  },
  {
   "cell_type": "code",
   "execution_count": null,
   "metadata": {},
   "outputs": [],
   "source": [
    "fit_line_checkbox = pn.widgets.Checkbox(name='fit line')\n"
   ]
  },
  {
   "cell_type": "code",
   "execution_count": null,
   "metadata": {},
   "outputs": [],
   "source": [
    "avg_house_price = to_data['average_house_value'].groupby('year').mean()"
   ]
  },
  {
   "cell_type": "code",
   "execution_count": null,
   "metadata": {},
   "outputs": [],
   "source": [
    "avg_house_price = to_data['average_house_value'].groupby('year').mean()\n",
    "    "
   ]
  },
  {
   "cell_type": "code",
   "execution_count": null,
   "metadata": {},
   "outputs": [],
   "source": [
    "average_house_value"
   ]
  },
  {
   "cell_type": "code",
   "execution_count": null,
   "metadata": {},
   "outputs": [],
   "source": [
    "avg_house_price = to_data['average_house_value']"
   ]
  },
  {
   "cell_type": "code",
   "execution_count": null,
   "metadata": {},
   "outputs": [],
   "source": [
    "scatter_costs = hv.Scatter(data=avg_house_price, kdims='year',vdims='average_house_value')\n",
    "scatter_costs.opts(line_color='blue', width=600, size=10)"
   ]
  },
  {
   "cell_type": "code",
   "execution_count": null,
   "metadata": {},
   "outputs": [],
   "source": [
    "@pn.depends(fit_line_checkbox)\n",
    "def fit_line(x):\n",
    "    if x ==True:\n",
    "        return scatter_costs *hv.Slope.from_scatter(scatter_costs)\n",
    "    else:\n",
    "        return scatter_costs"
   ]
  },
  {
   "cell_type": "code",
   "execution_count": null,
   "metadata": {},
   "outputs": [],
   "source": [
    "pn.Column(pn.Column(fit_line_checkbox), fit_line)"
   ]
  },
  {
   "cell_type": "code",
   "execution_count": null,
   "metadata": {},
   "outputs": [],
   "source": [
    "neighbourhood_widget = pn.widgets.Select(name='nighbourhood', options=neighbourhood)"
   ]
  },
  {
   "cell_type": "code",
   "execution_count": null,
   "metadata": {},
   "outputs": [],
   "source": [
    "@depends(neighbourhood_widget)\n",
    "def create_boxplot(data,measure):\n",
    "    return data.hvplot.box(y=measure).opts(width=450)"
   ]
  },
  {
   "cell_type": "code",
   "execution_count": null,
   "metadata": {},
   "outputs": [],
   "source": [
    "plot_panel = pn.pane.Plotly(create_parallel_categories_plot(30))\n",
    "plot_panel"
   ]
  },
  {
   "cell_type": "code",
   "execution_count": null,
   "metadata": {},
   "outputs": [],
   "source": [
    "pn"
   ]
  },
  {
   "cell_type": "code",
   "execution_count": null,
   "metadata": {},
   "outputs": [],
   "source": [
    "pn.Column('#A','#B')"
   ]
  },
  {
   "cell_type": "code",
   "execution_count": null,
   "metadata": {},
   "outputs": [],
   "source": [
    "pn.Row('X','Y', background='#cc99ff')"
   ]
  },
  {
   "cell_type": "code",
   "execution_count": null,
   "metadata": {},
   "outputs": [],
   "source": [
    "# investigate pane column\n",
    "pn.pane.Markdown('''\n",
    "# H1\n",
    "## H2\n",
    "### H3\n",
    "''')"
   ]
  },
  {
   "cell_type": "code",
   "execution_count": null,
   "metadata": {},
   "outputs": [],
   "source": [
    "title = pn.panel('## Earthquake Dashboard', background='#cc99ff')\n",
    "\n",
    "title"
   ]
  },
  {
   "cell_type": "code",
   "execution_count": null,
   "metadata": {},
   "outputs": [],
   "source": [
    "'https://images.app.goo.gl/tUgrLhbAsHC9nDsD7'\n",
    "\n",
    "'https://encrypted-tbn0.gstatic.com/images?q=tbn:ANd9GcQIpEIn795bOGsB5LpE1z8AcwJxnO1uQuBJFw&usqp=CAU'"
   ]
  },
  {
   "cell_type": "code",
   "execution_count": null,
   "metadata": {},
   "outputs": [],
   "source": []
  },
  {
   "cell_type": "raw",
   "metadata": {},
   "source": [
    "# Getting the data from the top 10 expensive neighbourhoods\n",
    "print('top10_expensive_data_fin')\n",
    "display(top10_expensive_data_fin.head())\n",
    "\n",
    "print('---------')\n",
    "\n",
    "# Calculate the mean number of dwelling types units per year\n",
    "print('dwelling_type_year_df')\n",
    "display(dwelling_type_year_df.head())\n",
    "\n",
    "print('---------')\n",
    "\n",
    "# Calculate the average monthly shelter costs for owned and rented dwellings\n",
    "print('monthly_shelter_cost')\n",
    "display(monthly_shelter_cost.head())\n",
    "\n",
    "print('---------')\n",
    "\n",
    "# Calculate the top 10 suburbs by year by nighbourhood - for sunburst\n",
    "print('top10_expensive_yearly_df')\n",
    "display(top10_expensive_yearly_df.head())\n",
    "\n",
    "print('---------')\n",
    "\n",
    "# Calculate location data for map - df_location_neighbourhood_map\n",
    "print('df_location_neighbourhood')\n",
    "display(df_location_neighbourhood.head())\n",
    "\n",
    "print('---------')\n",
    "\n",
    "# Calculate oveereview of value per year per neighbourhood\n",
    "print('neighbourhood_yr_data')\n",
    "display(neighbourhood_yr_data.head()) #neighbourhood_yr_data\n",
    "\n",
    "print('---------')\n",
    "\n",
    "# Calculate the mean number of dwelling types units per year -for hvplot\n",
    "print('dwellingtype_year_data')\n",
    "display(dwellingtype_year_data.head())"
   ]
  },
  {
   "cell_type": "markdown",
   "metadata": {},
   "source": [
    "## References\n",
    "\n",
    "https://medium.com/@philipp.jfr/panel-announcement-2107c2b15f52\n",
    "    \n",
    "https://panel.holoviz.org/gallery/apis/stocks_hvplot.html\n",
    "\n",
    "https://panel.holoviz.org/user_guide/Components.html\n",
    "\n",
    "https://holoviz.org/tutorial/Building_Panels.html\n",
    "    \n",
    "https://towardsdatascience.com/how-to-build-a-time-series-dashboard-in-python-with-panel-altair-and-a-jupyter-notebook-c0ed40f02289\n",
    "\n",
    "https://www.youtube.com/watch?v=am0iMNa9-1M"
   ]
  },
  {
   "cell_type": "code",
   "execution_count": null,
   "metadata": {},
   "outputs": [],
   "source": [
    "\n"
   ]
  },
  {
   "cell_type": "code",
   "execution_count": null,
   "metadata": {},
   "outputs": [],
   "source": []
  }
 ],
 "metadata": {
  "file_extension": ".py",
  "kernelspec": {
   "display_name": "Python 3",
   "language": "python",
   "name": "python3"
  },
  "language_info": {
   "codemirror_mode": {
    "name": "ipython",
    "version": 3
   },
   "file_extension": ".py",
   "mimetype": "text/x-python",
   "name": "python",
   "nbconvert_exporter": "python",
   "pygments_lexer": "ipython3",
   "version": "3.7.9"
  },
  "mimetype": "text/x-python",
  "name": "python",
  "npconvert_exporter": "python",
  "pygments_lexer": "ipython3",
  "version": 3
 },
 "nbformat": 4,
 "nbformat_minor": 4
}
