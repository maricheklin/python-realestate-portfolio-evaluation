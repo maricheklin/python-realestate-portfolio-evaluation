{
 "cells": [
  {
   "cell_type": "markdown",
   "metadata": {},
   "source": [
    "# Toronto Dwellings Analysis Dashboard\n",
    "\n",
    "In this notebook, you will compile the visualizations from the previous analysis into functions to create a Panel dashboard."
   ]
  },
  {
   "cell_type": "code",
   "execution_count": 6,
   "metadata": {},
   "outputs": [],
   "source": [
    "# imports\n",
    "import panel as pn\n",
    "pn.extension('plotly')\n",
    "import plotly.express as px\n",
    "import pandas as pd\n",
    "import hvplot.pandas\n",
    "import matplotlib.pyplot as plt\n",
    "import os\n",
    "from pathlib import Path\n",
    "from dotenv import load_dotenv"
   ]
  },
  {
   "cell_type": "code",
   "execution_count": 7,
   "metadata": {},
   "outputs": [],
   "source": [
    "# Initialize the Panel Extensions (for Plotly)\n",
    "import panel as pn\n",
    "pn.extension(\"plotly\")"
   ]
  },
  {
   "cell_type": "code",
   "execution_count": 8,
   "metadata": {},
   "outputs": [],
   "source": [
    "# Read the Mapbox API key\n",
    "load_dotenv()\n",
    "map_box_api = os.getenv(\"mapbox\")\n",
    "px.set_mapbox_access_token(map_box_api)"
   ]
  },
  {
   "cell_type": "markdown",
   "metadata": {},
   "source": [
    "# Import Data"
   ]
  },
  {
   "cell_type": "code",
   "execution_count": 9,
   "metadata": {},
   "outputs": [],
   "source": [
    "# Import the CSVs to Pandas DataFrames\n",
    "file_path = Path(\"Data/toronto_neighbourhoods_census_data.csv\")\n",
    "to_data = pd.read_csv(file_path, index_col=\"year\")\n",
    "\n",
    "file_path = Path(\"Data/toronto_neighbourhoods_coordinates.csv\")\n",
    "df_neighbourhood_locations = pd.read_csv(file_path)"
   ]
  },
  {
   "cell_type": "markdown",
   "metadata": {},
   "source": [
    "- - -"
   ]
  },
  {
   "cell_type": "markdown",
   "metadata": {},
   "source": [
    "## Panel Visualizations\n",
    "\n",
    "In this section, you will copy the code for each plot type from your analysis notebook and place it into separate functions that Panel can use to create panes for the dashboard. \n",
    "\n",
    "These functions will convert the plot object to a Panel pane.\n",
    "\n",
    "Be sure to include any DataFrame transformation/manipulation code required along with the plotting code.\n",
    "\n",
    "Return a Panel pane object from each function that can be used to build the dashboard.\n",
    "\n",
    "Note: Remove any `.show()` lines from the code. We want to return the plots instead of showing them. The Panel dashboard will then display the plots."
   ]
  },
  {
   "cell_type": "markdown",
   "metadata": {},
   "source": [
    "### Global available data - data calculated in rental_analysis.ipynb"
   ]
  },
  {
   "cell_type": "code",
   "execution_count": 20,
   "metadata": {},
   "outputs": [],
   "source": [
    "# Getting the data from the top 10 expensive neighbourhoods\n",
    "file_path1 = Path('Data/top10_expensive_data_fin.csv')\n",
    "top10_expensive_df = pd.read_csv(file_path1)\n",
    "\n",
    "# Calculate the mean number of dwelling types units per year\n",
    "file_path2 = Path('Data/dwelling_types_per_year.csv')\n",
    "dwelling_type_year_df = pd.read_csv(file_path2)\n",
    "\n",
    "# Calculate the average monthly shelter costs for owned and rented dwellings\n",
    "file_path3 = Path(\"Data/monthly_shelter_cost.csv\")\n",
    "monthly_shelter_cost_df = pd.read_csv(file_path3)"
   ]
  },
  {
   "cell_type": "markdown",
   "metadata": {},
   "source": [
    "### Panel Visualization Functions"
   ]
  },
  {
   "cell_type": "code",
   "execution_count": null,
   "metadata": {},
   "outputs": [],
   "source": [
    "# Define Panel visualization functions\n",
    "def neighbourhood_map():\n",
    "    \"\"\"Neighbourhood Map - this map shows the neighbourhood map \n",
    "    this map shows a scatter map using mapbox and plotly express. It only takes exact \n",
    "    values from the stored dataframe - not dynamic\"\"\"\n",
    "   \n",
    "    map_plot = px.scatter_mapbox(\n",
    "    df_location_neighbourhood_map,\n",
    "    lat=\"lat\",\n",
    "    lon=\"lon\",\n",
    "    title = 'Average House Values in Toronto by Neighbourhood',\n",
    "    size=\"average_house_value\",\n",
    "    color=\"neighbourhood\",\n",
    "    zoom=9,\n",
    "    color_continuous_scale=px.colors.cyclical.IceFire\n",
    ")\n",
    "    \n",
    "# Define a generic function:\n",
    "def neighbourhood_map_dynamic(data, title, latvalue=\"lat\", lonvalue=\"lon\", size, color, zoom ):\n",
    "    \"\"\"Neighbourhood Map - this map shows a scatter map using mapbox and plotly express. \n",
    "    This is the generic version of the funnction which creates the scatter mapbox dynamically\"\"\"\n",
    "    try:\n",
    "        map_plot = px.scatter_mapbox(\n",
    "        data,\n",
    "        lat=latvalue,\n",
    "        lon=lonvalue,\n",
    "        title = title,\n",
    "        size= size,\n",
    "        color= color,\n",
    "        zoom= zoom,\n",
    "        color_continuous_scale=px.colors.cyclical.IceFire\n",
    "    except:\n",
    "            print('Execution of scatter mapbox failed. Check input variables are valid.')\n",
    ")\n",
    "        \n",
    "\n",
    "\n",
    "    \n",
    "def create_bar_chart(data, title, xlabel, ylabel, color, width, height):\n",
    "    \"\"\"\n",
    "    Creates a bar plot based in the data argument. Includes width and height\n",
    "    \"\"\"\n",
    "    try:\n",
    "        data.plot(kind=\"bar\", color= colour, figsize=(width, height))\n",
    "        plt.title(title)\n",
    "        plt.xlabel(xlabel)\n",
    "        plt.ylabel(ylabel)\n",
    "        plt.show()\n",
    "    except:\n",
    "        print('Exception in create_bar_chart- check valid input format')\n",
    "    \n",
    "\n",
    "#def create_line_chart(data, title, xlabel, ylabel, color):\n",
    "#    \"\"\"\n",
    "#    Create a line chart based in the data argument.\n",
    "#    \"\"\"\n",
    "# created dynamic chart with type of chart\n",
    "\n",
    "def create_bar_or_line_chart(data, title='', xlabel='', ylabel='', color='r', width=10, height=5, chart_type='line', lw=3, titlefont=30, fontsize=16, fontsizex=16, fontsizey=16):\n",
    "    \"\"\"\n",
    "   Create_bar_or_line_chart (actually only line or bar) function \n",
    "   creates a basic chart dynamically using\n",
    "   matplotlib with each chart having just one colour\n",
    "   and taking in data (which in test example is a row) a title\n",
    "   the x axis label, y axis label, width and height of the chart. \n",
    "   Default values for chart_type is line chart, default values for\n",
    "   line weight is 3 and ticker font size default is 16, title font\n",
    "   siz default is 30, and x and y label font size default is 16. \n",
    "   \"\"\"\n",
    "    \n",
    "    if ('line' != chart_type.lower()) and ('bar' != chart_type.lower()) :\n",
    "        print('Unacceptable chart type. Acceptable types include \\'box\\' and \\'line\\' ')\n",
    "        return\n",
    "    else:\n",
    "        chart_type = chart_type.lower()\n",
    "    \n",
    "    \n",
    "    try:\n",
    "        data.plot(kind=chart_type, lw=lw, fontsize=fontsize, color= color, figsize=(width, height))\n",
    "        plt.figtext(.5,.9,title, fontsize=titlefont, ha='center')\n",
    "        plt.xlabel(xlabel, fontsize=fontsizex)\n",
    "        plt.ylabel(ylabel, fontsize = fontsizey)\n",
    "        plt.show()\n",
    "    \n",
    "    except:\n",
    "        print('Exception in create_box_or_line_chartt- check valid input format')\n",
    "\n",
    "def average_house_value():\n",
    "    \"\"\"Average house values per year.\"\"\"\n",
    "    avg_house_price = to_data['average_house_value'].groupby('year').mean()\n",
    "    return average_house_pricee\n",
    "    \n",
    "\n",
    "def average_value_by_neighbourhood():\n",
    "    \"\"\"Average house values by neighbourhood by year.\"\"\"\n",
    "    neighbourhood_year_data= to_data[['neighbourhood','average_house_value']]\n",
    "    neighbourhood_yr_data = neighbourhood_year_data.groupby(['year','neighbourhood']).mean().sort_values(\"year\")\n",
    "    neighbourhood_yr_data = neighbourhood_yr_data.add_suffix('').reset_index()\n",
    "    return neighbourhood_yr_data\n",
    "\n",
    "def average_value_by_neighbourhood_no_year():\n",
    "    \"\"\"Average house values by neighbourhood by year.\"\"\"\n",
    "    neighbourhood_data= to_data[['neighbourhood','average_house_value']]\n",
    "    neighbourhood_data = neighbourhood_data.groupby(['neighbourhood']).mean()\n",
    "    neighbourhood_data = neighbourhood_data.add_suffix('').reset_index()\n",
    "    return neighbourhood_sdata\n",
    "\n",
    "def number_dwelling_types():\n",
    "    \"\"\"Number of dwelling types per year\"\"\"\n",
    "    \n",
    "    # YOUR CODE HERE!\n",
    "\n",
    "def average_house_value_snapshot():\n",
    "    \"\"\"Average house value for all Toronto's neighbourhoods per year.\"\"\"\n",
    "\n",
    "    # YOUR CODE HERE!\n",
    "\n",
    "def top_most_expensive_neighbourhoods():\n",
    "    \"\"\"Top 10 most expensive neighbourhoods.\"\"\"\n",
    "    \n",
    "    # YOUR CODE HERE!\n",
    "\n",
    "def sunburts_cost_analysis():\n",
    "    \"\"\"Sunburst chart to conduct a costs analysis of most expensive neighbourhoods in Toronto per year.\"\"\"\n",
    "    \n",
    "    # YOUR CODE HERE!"
   ]
  },
  {
   "cell_type": "markdown",
   "metadata": {},
   "source": [
    "## Panel Dashboard\n",
    "\n",
    "In this section, you will combine all of the plots into a single dashboard view using Panel. Be creative with your dashboard design!"
   ]
  },
  {
   "cell_type": "code",
   "execution_count": null,
   "metadata": {},
   "outputs": [],
   "source": [
    "# Create a Title for the Dashboard\n",
    "# YOUR CODE HERE!\n",
    "\n",
    "# Define a welcome text\n",
    "# YOUR CODE HERE!\n",
    "\n",
    "# Create a tab layout for the dashboard\n",
    "# YOUR CODE HERE!\n",
    "\n",
    "\n",
    "# Create the main dashboard\n",
    "# YOUR CODE HERE!"
   ]
  },
  {
   "cell_type": "markdown",
   "metadata": {},
   "source": [
    "## Serve the Panel Dashboard"
   ]
  },
  {
   "cell_type": "code",
   "execution_count": null,
   "metadata": {},
   "outputs": [],
   "source": [
    "dashboard.servable()"
   ]
  },
  {
   "cell_type": "markdown",
   "metadata": {},
   "source": [
    "# Debugging\n",
    "\n",
    "Note: Some of the Plotly express plots may not render in the notebook through the panel functions.\n",
    "\n",
    "However, you can test each plot by uncommenting the following code"
   ]
  },
  {
   "cell_type": "code",
   "execution_count": null,
   "metadata": {},
   "outputs": [],
   "source": [
    "# neighbourhood_map().show()"
   ]
  },
  {
   "cell_type": "code",
   "execution_count": null,
   "metadata": {},
   "outputs": [],
   "source": [
    "# create_bar_chart(data, title, xlabel, ylabel, color)\n",
    "\n",
    "# # Bar chart for 2001\n",
    "# create_bar_chart(df_dwelling_units.loc[2001], \"Dwelling Types in Toronto in 2001\", \"2001\", \"Dwelling Type Units\", \"red\")\n",
    "\n",
    "# # Bar chart for 2006\n",
    "# create_bar_chart(df_dwelling_units.loc[2006], \"Dwelling Types in Toronto in 2006\", \"2006\", \"Dwelling Type Units\", \"blue\")\n",
    "\n",
    "# # Bar chart for 2011\n",
    "# create_bar_chart(df_dwelling_units.loc[2011], \"Dwelling Types in Toronto in 2011\", \"2011\", \"Dwelling Type Units\", \"orange\")\n",
    "\n",
    "# # Bar chart for 2016\n",
    "# create_bar_chart(df_dwelling_units.loc[2016], \"Dwelling Types in Toronto in 2016\", \"2016\", \"Dwelling Type Units\", \"magenta\")"
   ]
  },
  {
   "cell_type": "code",
   "execution_count": null,
   "metadata": {},
   "outputs": [],
   "source": [
    "# create_line_chart(data, title, xlabel, ylabel, color)\n",
    "\n",
    "# # Line chart for owned dwellings\n",
    "# create_line_chart(df_avg_costs[\"shelter_costs_owned\"], \"Average Monthly Shelter Cost for Owned Dwellings in Toronto\", \"Year\", \"Avg Monthly Shelter Costs\", \"blue\")\n",
    "\n",
    "# # Line chart for rented dwellings\n",
    "# create_line_chart(df_avg_costs[\"shelter_costs_rented\"], \"Average Monthly Shelter Cost for Rented Dwellings in Toronto\", \"Year\", \"Avg Monthly Shelter Costs\", \"orange\")"
   ]
  },
  {
   "cell_type": "code",
   "execution_count": null,
   "metadata": {},
   "outputs": [],
   "source": [
    "# average_house_value()"
   ]
  },
  {
   "cell_type": "code",
   "execution_count": null,
   "metadata": {},
   "outputs": [],
   "source": [
    "# average_value_by_neighbourhood()"
   ]
  },
  {
   "cell_type": "code",
   "execution_count": null,
   "metadata": {},
   "outputs": [],
   "source": [
    "# number_dwelling_types()"
   ]
  },
  {
   "cell_type": "code",
   "execution_count": null,
   "metadata": {},
   "outputs": [],
   "source": [
    "# average_house_value_snapshot()"
   ]
  },
  {
   "cell_type": "code",
   "execution_count": null,
   "metadata": {},
   "outputs": [],
   "source": [
    "# top_most_expensive_neighbourhoods()"
   ]
  },
  {
   "cell_type": "code",
   "execution_count": null,
   "metadata": {},
   "outputs": [],
   "source": [
    "# sunburts_cost_analysis()"
   ]
  },
  {
   "cell_type": "code",
   "execution_count": null,
   "metadata": {},
   "outputs": [],
   "source": [
    "## References\n",
    "\n",
    "https://medium.com/@philipp.jfr/panel-announcement-2107c2b15f52\n",
    "https://panel.holoviz.org/gallery/apis/stocks_hvplot.html "
   ]
  }
 ],
 "metadata": {
  "file_extension": ".py",
  "kernelspec": {
   "display_name": "Python [conda env:pyvizenv] *",
   "language": "python",
   "name": "conda-env-pyvizenv-py"
  },
  "language_info": {
   "codemirror_mode": {
    "name": "ipython",
    "version": 3
   },
   "file_extension": ".py",
   "mimetype": "text/x-python",
   "name": "python",
   "nbconvert_exporter": "python",
   "pygments_lexer": "ipython3",
   "version": "3.7.9"
  },
  "mimetype": "text/x-python",
  "name": "python",
  "npconvert_exporter": "python",
  "pygments_lexer": "ipython3",
  "version": 3
 },
 "nbformat": 4,
 "nbformat_minor": 4
}
